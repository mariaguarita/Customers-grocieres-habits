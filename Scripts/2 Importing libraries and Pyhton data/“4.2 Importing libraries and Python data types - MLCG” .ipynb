{
 "cells": [
  {
   "cell_type": "markdown",
   "id": "b54ec57c",
   "metadata": {},
   "source": [
    "# Importing Libraries"
   ]
  },
  {
   "cell_type": "code",
   "execution_count": 1,
   "id": "b9ecfd0a",
   "metadata": {},
   "outputs": [],
   "source": [
    "# Import libraries\n",
    "import pandas as pd\n",
    "import numpy as np\n",
    "import os"
   ]
  },
  {
   "cell_type": "markdown",
   "id": "e1088383",
   "metadata": {},
   "source": [
    "# Practicing general commands"
   ]
  },
  {
   "cell_type": "code",
   "execution_count": 6,
   "id": "9b109d4d",
   "metadata": {},
   "outputs": [],
   "source": [
    "x=70"
   ]
  },
  {
   "cell_type": "code",
   "execution_count": 9,
   "id": "1e1f8734",
   "metadata": {},
   "outputs": [],
   "source": [
    "y=20"
   ]
  },
  {
   "cell_type": "code",
   "execution_count": 10,
   "id": "6ef08a47",
   "metadata": {},
   "outputs": [],
   "source": [
    "z=10"
   ]
  },
  {
   "cell_type": "code",
   "execution_count": 15,
   "id": "dc9d4085",
   "metadata": {},
   "outputs": [
    {
     "data": {
      "text/plain": [
       "100"
      ]
     },
     "execution_count": 15,
     "metadata": {},
     "output_type": "execute_result"
    }
   ],
   "source": [
    "x+y+z"
   ]
  },
  {
   "cell_type": "code",
   "execution_count": 32,
   "id": "207f2fed",
   "metadata": {},
   "outputs": [
    {
     "name": "stdout",
     "output_type": "stream",
     "text": [
      "100\n"
     ]
    }
   ],
   "source": [
    "print(90+10)"
   ]
  },
  {
   "cell_type": "code",
   "execution_count": 33,
   "id": "525facfa",
   "metadata": {},
   "outputs": [],
   "source": [
    "a = 102"
   ]
  },
  {
   "cell_type": "code",
   "execution_count": 34,
   "id": "384d9b40",
   "metadata": {},
   "outputs": [],
   "source": [
    "b = 2"
   ]
  },
  {
   "cell_type": "code",
   "execution_count": 35,
   "id": "adc5a175",
   "metadata": {},
   "outputs": [
    {
     "name": "stdout",
     "output_type": "stream",
     "text": [
      "100\n"
     ]
    }
   ],
   "source": [
    "print (102-2)"
   ]
  },
  {
   "cell_type": "code",
   "execution_count": 36,
   "id": "a8085f60",
   "metadata": {},
   "outputs": [],
   "source": [
    "m = 3.2"
   ]
  },
  {
   "cell_type": "code",
   "execution_count": 37,
   "id": "d7aefb1b",
   "metadata": {},
   "outputs": [],
   "source": [
    "n = 1.6"
   ]
  },
  {
   "cell_type": "code",
   "execution_count": 44,
   "id": "f0e06dd3",
   "metadata": {},
   "outputs": [
    {
     "name": "stdout",
     "output_type": "stream",
     "text": [
      "2.0\n"
     ]
    }
   ],
   "source": [
    "print (m/n)"
   ]
  },
  {
   "cell_type": "code",
   "execution_count": 45,
   "id": "fa6a2658",
   "metadata": {},
   "outputs": [],
   "source": [
    "p = \"girl\""
   ]
  },
  {
   "cell_type": "code",
   "execution_count": 48,
   "id": "ba1e9ff7",
   "metadata": {},
   "outputs": [],
   "source": [
    "q = \"friend\""
   ]
  },
  {
   "cell_type": "code",
   "execution_count": 49,
   "id": "52eb6e5e",
   "metadata": {},
   "outputs": [
    {
     "data": {
      "text/plain": [
       "'girlfriend'"
      ]
     },
     "execution_count": 49,
     "metadata": {},
     "output_type": "execute_result"
    }
   ],
   "source": [
    "p+q"
   ]
  },
  {
   "cell_type": "code",
   "execution_count": 55,
   "id": "b1836386",
   "metadata": {},
   "outputs": [],
   "source": [
    "e = \"I \""
   ]
  },
  {
   "cell_type": "code",
   "execution_count": 54,
   "id": "6750c691",
   "metadata": {},
   "outputs": [],
   "source": [
    "f = \"will \""
   ]
  },
  {
   "cell_type": "code",
   "execution_count": 56,
   "id": "26f3572d",
   "metadata": {},
   "outputs": [],
   "source": [
    "g = \"learn\""
   ]
  },
  {
   "cell_type": "code",
   "execution_count": 57,
   "id": "290f9260",
   "metadata": {},
   "outputs": [
    {
     "data": {
      "text/plain": [
       "'I will learn'"
      ]
     },
     "execution_count": 57,
     "metadata": {},
     "output_type": "execute_result"
    }
   ],
   "source": [
    "e+f+g"
   ]
  },
  {
   "cell_type": "code",
   "execution_count": 58,
   "id": "b1e4efe8",
   "metadata": {},
   "outputs": [],
   "source": [
    "h = \"finished \""
   ]
  },
  {
   "cell_type": "code",
   "execution_count": 59,
   "id": "0eb80894",
   "metadata": {},
   "outputs": [],
   "source": [
    "i = \"task \""
   ]
  },
  {
   "cell_type": "code",
   "execution_count": 63,
   "id": "2b74da2c",
   "metadata": {},
   "outputs": [
    {
     "data": {
      "text/plain": [
       "'finished task '"
      ]
     },
     "execution_count": 63,
     "metadata": {},
     "output_type": "execute_result"
    }
   ],
   "source": [
    "h+i"
   ]
  },
  {
   "cell_type": "code",
   "execution_count": 64,
   "id": "5565322f",
   "metadata": {},
   "outputs": [],
   "source": [
    "u = \"hundred\""
   ]
  },
  {
   "cell_type": "code",
   "execution_count": 65,
   "id": "32e9f36e",
   "metadata": {},
   "outputs": [
    {
     "data": {
      "text/plain": [
       "'hundredhundredhundredhundredhundredhundredhundredhundredhundredhundredhundredhundredhundredhundredhundredhundredhundredhundredhundredhundredhundredhundredhundredhundredhundredhundredhundredhundredhundredhundredhundredhundredhundredhundredhundredhundredhundredhundredhundredhundredhundredhundredhundredhundredhundredhundredhundredhundredhundredhundredhundredhundredhundredhundredhundredhundredhundredhundredhundredhundredhundredhundredhundredhundredhundredhundredhundredhundredhundredhundredhundredhundredhundredhundredhundredhundredhundredhundredhundredhundredhundredhundredhundredhundredhundredhundredhundredhundredhundredhundredhundredhundredhundredhundredhundredhundredhundredhundredhundredhundred'"
      ]
     },
     "execution_count": 65,
     "metadata": {},
     "output_type": "execute_result"
    }
   ],
   "source": [
    "100 * u"
   ]
  },
  {
   "cell_type": "code",
   "execution_count": null,
   "id": "6513f3f0",
   "metadata": {},
   "outputs": [],
   "source": []
  }
 ],
 "metadata": {
  "kernelspec": {
   "display_name": "Python 3 (ipykernel)",
   "language": "python",
   "name": "python3"
  },
  "language_info": {
   "codemirror_mode": {
    "name": "ipython",
    "version": 3
   },
   "file_extension": ".py",
   "mimetype": "text/x-python",
   "name": "python",
   "nbconvert_exporter": "python",
   "pygments_lexer": "ipython3",
   "version": "3.9.12"
  }
 },
 "nbformat": 4,
 "nbformat_minor": 5
}

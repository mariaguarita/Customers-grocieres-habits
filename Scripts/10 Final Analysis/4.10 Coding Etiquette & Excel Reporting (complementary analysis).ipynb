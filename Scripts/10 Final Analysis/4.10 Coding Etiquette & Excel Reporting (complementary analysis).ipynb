{
 "cells": [
  {
   "cell_type": "markdown",
   "id": "dbe91542",
   "metadata": {},
   "source": [
    "# Compelmentary analysis for the final project"
   ]
  },
  {
   "cell_type": "code",
   "execution_count": 1,
   "id": "d927e9c3",
   "metadata": {},
   "outputs": [],
   "source": [
    "#Importing libraries\n",
    "import pandas as pd\n",
    "import numpy as np\n",
    "import os\n",
    "import matplotlib.pyplot as plt\n",
    "import seaborn as sns\n",
    "import scipy"
   ]
  },
  {
   "cell_type": "code",
   "execution_count": 2,
   "id": "45856059",
   "metadata": {},
   "outputs": [],
   "source": [
    "#Importing data from 'ordsers_products_customers'\n",
    "path = r'/Users/marialuciaguarita/Python Careerfoundry Project 1'\n",
    "ords_prods_cust_merge = pd.read_pickle(os.path.join(path,'Data','Prepared Data','orders_products_customers.pkl'))"
   ]
  },
  {
   "cell_type": "code",
   "execution_count": 5,
   "id": "43f151f4",
   "metadata": {},
   "outputs": [],
   "source": [
    "ords_prods_cust_merge_best = ords_prods_cust_merge"
   ]
  },
  {
   "cell_type": "code",
   "execution_count": 6,
   "id": "db1119cd",
   "metadata": {},
   "outputs": [],
   "source": [
    "#Excluding Flag for low-activity customers\n",
    "ords_prods_cust_merge_best.loc[ords_prods_cust_merge_best['max_order'] <=  5, 'exclusion_flag'] = 'Yes'\n"
   ]
  },
  {
   "cell_type": "code",
   "execution_count": 7,
   "id": "c807a656",
   "metadata": {},
   "outputs": [],
   "source": [
    "ords_prods_cust_merge_best.loc[ords_prods_cust_merge_best['max_order'] >  5, 'exclusion_flag'] = 'No'"
   ]
  },
  {
   "cell_type": "code",
   "execution_count": 8,
   "id": "bfb79cbe",
   "metadata": {},
   "outputs": [],
   "source": [
    "ords_prods_cust_merge_best.drop(ords_prods_cust_merge_best[ords_prods_cust_merge_best['exclusion_flag']=='Yes'].index,inplace=True)"
   ]
  },
  {
   "cell_type": "code",
   "execution_count": 9,
   "id": "14d8539f",
   "metadata": {},
   "outputs": [],
   "source": [
    "# Question 1 -   Number of orders placed at each day of the week\n",
    "\n",
    "result = []\n",
    "\n",
    "for value in ords_prods_cust_merge_best['orders_day_of_week']:\n",
    "  if value == 0:\n",
    "    result.append(\"Saturday\")\n",
    "  elif value == 1:\n",
    "    result.append(\"Sunday\")\n",
    "  elif value == 2:\n",
    "    result.append(\"Monday\")\n",
    "  elif value == 3:\n",
    "    result.append(\"Tuesday\")\n",
    "  elif value == 4:\n",
    "    result.append(\"Wednesday\")\n",
    "  elif value == 5:\n",
    "    result.append(\"Thursday\")\n",
    "  elif value == 6:\n",
    "    result.append(\"Friday\")\n",
    "  else:\n",
    "    result.append(\"NaN\")"
   ]
  },
  {
   "cell_type": "code",
   "execution_count": 10,
   "id": "81362868",
   "metadata": {},
   "outputs": [
    {
     "data": {
      "text/plain": [
       "Saturday     5744325\n",
       "Sunday       5278055\n",
       "Friday       4175041\n",
       "Thursday     3937100\n",
       "Monday       3921025\n",
       "Tuesday      3578050\n",
       "Wednesday    3537828\n",
       "Name: Saturday, dtype: int64"
      ]
     },
     "execution_count": 10,
     "metadata": {},
     "output_type": "execute_result"
    }
   ],
   "source": [
    "ords_prods_cust_merge_best['Saturday'] = result\n",
    "ords_prods_cust_merge_best['Saturday'].value_counts(dropna = False)"
   ]
  },
  {
   "cell_type": "code",
   "execution_count": 9,
   "id": "03088fa4",
   "metadata": {},
   "outputs": [
    {
     "data": {
      "text/plain": [
       "<AxesSubplot:>"
      ]
     },
     "execution_count": 9,
     "metadata": {},
     "output_type": "execute_result"
    },
    {
     "data": {
      "image/png": "[encoded data removed]",
      "text/plain": [
       "<Figure size 432x288 with 1 Axes>"
      ]
     },
     "metadata": {
      "needs_background": "light"
     },
     "output_type": "display_data"
    }
   ],
   "source": [
    "ords_prods_cust_merge_best['Saturday'].value_counts().plot.bar(color=['green'])"
   ]
  },
  {
   "cell_type": "code",
   "execution_count": 10,
   "id": "7ad203bd",
   "metadata": {},
   "outputs": [
    {
     "data": {
      "text/plain": [
       "<AxesSubplot:>"
      ]
     },
     "execution_count": 10,
     "metadata": {},
     "output_type": "execute_result"
    },
    {
     "data": {
      "image/png": "[encoded data removed]",
      "text/plain": [
       "<Figure size 432x288 with 1 Axes>"
      ]
     },
     "metadata": {
      "needs_background": "light"
     },
     "output_type": "display_data"
    }
   ],
   "source": [
    "# Question 3 - Price Range Frequency\n",
    "ords_prods_cust_merge_best['price_range_loc'].value_counts().plot.bar(color=['orange'])"
   ]
  },
  {
   "cell_type": "code",
   "execution_count": 3,
   "id": "2d30d03e",
   "metadata": {},
   "outputs": [],
   "source": [
    "# Question 5d - \"Age x ordering habits\"\n",
    "ords_prods_cust_merge.loc[(ords_prods_cust_merge['age'] <= 35), 'age_range'] = 'youth'"
   ]
  },
  {
   "cell_type": "code",
   "execution_count": 4,
   "id": "0cc7390c",
   "metadata": {},
   "outputs": [],
   "source": [
    "ords_prods_cust_merge.loc[(ords_prods_cust_merge['age'] > 35) & (ords_prods_cust_merge['age'] < 65), 'age_range'] = 'middle age'"
   ]
  },
  {
   "cell_type": "code",
   "execution_count": 5,
   "id": "21e29b4e",
   "metadata": {},
   "outputs": [],
   "source": [
    "ords_prods_cust_merge.loc[(ords_prods_cust_merge['age'] >= 65), 'age_range'] = 'eldery'"
   ]
  },
  {
   "cell_type": "code",
   "execution_count": 6,
   "id": "34e5a5ee",
   "metadata": {},
   "outputs": [
    {
     "data": {
      "text/plain": [
       "middle age    14683356\n",
       "youth          9146419\n",
       "eldery         8575084\n",
       "Name: age_range, dtype: int64"
      ]
     },
     "execution_count": 6,
     "metadata": {},
     "output_type": "execute_result"
    }
   ],
   "source": [
    "ords_prods_cust_merge['age_range'].value_counts()"
   ]
  },
  {
   "cell_type": "code",
   "execution_count": 7,
   "id": "100b1ad0",
   "metadata": {},
   "outputs": [],
   "source": [
    "pd.set_option(\"display.float_format\",lambda x:\"%.2f\"% x)"
   ]
  },
  {
   "cell_type": "code",
   "execution_count": 8,
   "id": "a7fafb02",
   "metadata": {
    "scrolled": true
   },
   "outputs": [
    {
     "data": {
      "text/html": [
       "<div>\n",
       "<style scoped>\n",
       "    .dataframe tbody tr th:only-of-type {\n",
       "        vertical-align: middle;\n",
       "    }\n",
       "\n",
       "    .dataframe tbody tr th {\n",
       "        vertical-align: top;\n",
       "    }\n",
       "\n",
       "    .dataframe thead tr th {\n",
       "        text-align: left;\n",
       "    }\n",
       "\n",
       "    .dataframe thead tr:last-of-type th {\n",
       "        text-align: right;\n",
       "    }\n",
       "</style>\n",
       "<table border=\"1\" class=\"dataframe\">\n",
       "  <thead>\n",
       "    <tr>\n",
       "      <th></th>\n",
       "      <th>prices</th>\n",
       "    </tr>\n",
       "    <tr>\n",
       "      <th></th>\n",
       "      <th>mean</th>\n",
       "    </tr>\n",
       "    <tr>\n",
       "      <th>age_range</th>\n",
       "      <th></th>\n",
       "    </tr>\n",
       "  </thead>\n",
       "  <tbody>\n",
       "    <tr>\n",
       "      <th>eldery</th>\n",
       "      <td>7.80</td>\n",
       "    </tr>\n",
       "    <tr>\n",
       "      <th>middle age</th>\n",
       "      <td>7.79</td>\n",
       "    </tr>\n",
       "    <tr>\n",
       "      <th>youth</th>\n",
       "      <td>7.79</td>\n",
       "    </tr>\n",
       "  </tbody>\n",
       "</table>\n",
       "</div>"
      ],
      "text/plain": [
       "           prices\n",
       "             mean\n",
       "age_range        \n",
       "eldery       7.80\n",
       "middle age   7.79\n",
       "youth        7.79"
      ]
     },
     "execution_count": 8,
     "metadata": {},
     "output_type": "execute_result"
    }
   ],
   "source": [
    "ords_prods_cust_merge.groupby('age_range').agg({'prices': ['mean']})"
   ]
  },
  {
   "cell_type": "code",
   "execution_count": 9,
   "id": "c3ce0c88",
   "metadata": {},
   "outputs": [
    {
     "data": {
      "text/html": [
       "<div>\n",
       "<style scoped>\n",
       "    .dataframe tbody tr th:only-of-type {\n",
       "        vertical-align: middle;\n",
       "    }\n",
       "\n",
       "    .dataframe tbody tr th {\n",
       "        vertical-align: top;\n",
       "    }\n",
       "\n",
       "    .dataframe thead tr th {\n",
       "        text-align: left;\n",
       "    }\n",
       "\n",
       "    .dataframe thead tr:last-of-type th {\n",
       "        text-align: right;\n",
       "    }\n",
       "</style>\n",
       "<table border=\"1\" class=\"dataframe\">\n",
       "  <thead>\n",
       "    <tr>\n",
       "      <th></th>\n",
       "      <th>days_since_prior_order</th>\n",
       "    </tr>\n",
       "    <tr>\n",
       "      <th></th>\n",
       "      <th>mean</th>\n",
       "    </tr>\n",
       "    <tr>\n",
       "      <th>age_range</th>\n",
       "      <th></th>\n",
       "    </tr>\n",
       "  </thead>\n",
       "  <tbody>\n",
       "    <tr>\n",
       "      <th>eldery</th>\n",
       "      <td>11.08</td>\n",
       "    </tr>\n",
       "    <tr>\n",
       "      <th>middle age</th>\n",
       "      <td>11.11</td>\n",
       "    </tr>\n",
       "    <tr>\n",
       "      <th>youth</th>\n",
       "      <td>11.12</td>\n",
       "    </tr>\n",
       "  </tbody>\n",
       "</table>\n",
       "</div>"
      ],
      "text/plain": [
       "           days_since_prior_order\n",
       "                             mean\n",
       "age_range                        \n",
       "eldery                      11.08\n",
       "middle age                  11.11\n",
       "youth                       11.12"
      ]
     },
     "execution_count": 9,
     "metadata": {},
     "output_type": "execute_result"
    }
   ],
   "source": [
    "ords_prods_cust_merge.groupby('age_range').agg({'days_since_prior_order': ['mean']})"
   ]
  },
  {
   "cell_type": "code",
   "execution_count": 18,
   "id": "8d3db923",
   "metadata": {},
   "outputs": [
    {
     "data": {
      "text/html": [
       "<div>\n",
       "<style scoped>\n",
       "    .dataframe tbody tr th:only-of-type {\n",
       "        vertical-align: middle;\n",
       "    }\n",
       "\n",
       "    .dataframe tbody tr th {\n",
       "        vertical-align: top;\n",
       "    }\n",
       "\n",
       "    .dataframe thead tr th {\n",
       "        text-align: left;\n",
       "    }\n",
       "\n",
       "    .dataframe thead tr:last-of-type th {\n",
       "        text-align: right;\n",
       "    }\n",
       "</style>\n",
       "<table border=\"1\" class=\"dataframe\">\n",
       "  <thead>\n",
       "    <tr>\n",
       "      <th></th>\n",
       "      <th>prices</th>\n",
       "    </tr>\n",
       "    <tr>\n",
       "      <th></th>\n",
       "      <th>mean</th>\n",
       "    </tr>\n",
       "    <tr>\n",
       "      <th>fam_status</th>\n",
       "      <th></th>\n",
       "    </tr>\n",
       "  </thead>\n",
       "  <tbody>\n",
       "    <tr>\n",
       "      <th>divorced/widowed</th>\n",
       "      <td>7.80</td>\n",
       "    </tr>\n",
       "    <tr>\n",
       "      <th>living with parents and siblings</th>\n",
       "      <td>7.80</td>\n",
       "    </tr>\n",
       "    <tr>\n",
       "      <th>married</th>\n",
       "      <td>7.79</td>\n",
       "    </tr>\n",
       "    <tr>\n",
       "      <th>single</th>\n",
       "      <td>7.78</td>\n",
       "    </tr>\n",
       "  </tbody>\n",
       "</table>\n",
       "</div>"
      ],
      "text/plain": [
       "                                 prices\n",
       "                                   mean\n",
       "fam_status                             \n",
       "divorced/widowed                   7.80\n",
       "living with parents and siblings   7.80\n",
       "married                            7.79\n",
       "single                             7.78"
      ]
     },
     "execution_count": 18,
     "metadata": {},
     "output_type": "execute_result"
    }
   ],
   "source": [
    "# Question 5d - \"Family status x ordering habits\"\n",
    "ords_prods_cust_merge.groupby('fam_status').agg({'prices': ['mean']})"
   ]
  },
  {
   "cell_type": "code",
   "execution_count": 19,
   "id": "2a9d9bdc",
   "metadata": {},
   "outputs": [
    {
     "data": {
      "text/html": [
       "<div>\n",
       "<style scoped>\n",
       "    .dataframe tbody tr th:only-of-type {\n",
       "        vertical-align: middle;\n",
       "    }\n",
       "\n",
       "    .dataframe tbody tr th {\n",
       "        vertical-align: top;\n",
       "    }\n",
       "\n",
       "    .dataframe thead tr th {\n",
       "        text-align: left;\n",
       "    }\n",
       "\n",
       "    .dataframe thead tr:last-of-type th {\n",
       "        text-align: right;\n",
       "    }\n",
       "</style>\n",
       "<table border=\"1\" class=\"dataframe\">\n",
       "  <thead>\n",
       "    <tr>\n",
       "      <th></th>\n",
       "      <th>days_since_prior_order</th>\n",
       "    </tr>\n",
       "    <tr>\n",
       "      <th></th>\n",
       "      <th>mean</th>\n",
       "    </tr>\n",
       "    <tr>\n",
       "      <th>fam_status</th>\n",
       "      <th></th>\n",
       "    </tr>\n",
       "  </thead>\n",
       "  <tbody>\n",
       "    <tr>\n",
       "      <th>divorced/widowed</th>\n",
       "      <td>10.57</td>\n",
       "    </tr>\n",
       "    <tr>\n",
       "      <th>living with parents and siblings</th>\n",
       "      <td>10.58</td>\n",
       "    </tr>\n",
       "    <tr>\n",
       "      <th>married</th>\n",
       "      <td>10.65</td>\n",
       "    </tr>\n",
       "    <tr>\n",
       "      <th>single</th>\n",
       "      <td>10.63</td>\n",
       "    </tr>\n",
       "  </tbody>\n",
       "</table>\n",
       "</div>"
      ],
      "text/plain": [
       "                                 days_since_prior_order\n",
       "                                                   mean\n",
       "fam_status                                             \n",
       "divorced/widowed                                  10.57\n",
       "living with parents and siblings                  10.58\n",
       "married                                           10.65\n",
       "single                                            10.63"
      ]
     },
     "execution_count": 19,
     "metadata": {},
     "output_type": "execute_result"
    }
   ],
   "source": [
    "ords_prods_cust_merge.groupby('fam_status').agg({'days_since_prior_order': ['mean']})"
   ]
  },
  {
   "cell_type": "code",
   "execution_count": 20,
   "id": "11dbc695",
   "metadata": {},
   "outputs": [
    {
     "data": {
      "text/plain": [
       "married                             21188130\n",
       "single                               4961333\n",
       "divorced/widowed                     2577880\n",
       "living with parents and siblings     1444081\n",
       "Name: fam_status, dtype: int64"
      ]
     },
     "execution_count": 20,
     "metadata": {},
     "output_type": "execute_result"
    }
   ],
   "source": [
    "ords_prods_cust_merge['fam_status'].value_counts()"
   ]
  },
  {
   "cell_type": "code",
   "execution_count": 22,
   "id": "5d3dafd9",
   "metadata": {},
   "outputs": [
    {
     "data": {
      "text/html": [
       "<div>\n",
       "<style scoped>\n",
       "    .dataframe tbody tr th:only-of-type {\n",
       "        vertical-align: middle;\n",
       "    }\n",
       "\n",
       "    .dataframe tbody tr th {\n",
       "        vertical-align: top;\n",
       "    }\n",
       "\n",
       "    .dataframe thead tr th {\n",
       "        text-align: left;\n",
       "    }\n",
       "\n",
       "    .dataframe thead tr:last-of-type th {\n",
       "        text-align: right;\n",
       "    }\n",
       "</style>\n",
       "<table border=\"1\" class=\"dataframe\">\n",
       "  <thead>\n",
       "    <tr>\n",
       "      <th></th>\n",
       "      <th>income</th>\n",
       "    </tr>\n",
       "    <tr>\n",
       "      <th></th>\n",
       "      <th>mean</th>\n",
       "    </tr>\n",
       "    <tr>\n",
       "      <th>fam_status</th>\n",
       "      <th></th>\n",
       "    </tr>\n",
       "  </thead>\n",
       "  <tbody>\n",
       "    <tr>\n",
       "      <th>divorced/widowed</th>\n",
       "      <td>116069.73</td>\n",
       "    </tr>\n",
       "    <tr>\n",
       "      <th>living with parents and siblings</th>\n",
       "      <td>70934.93</td>\n",
       "    </tr>\n",
       "    <tr>\n",
       "      <th>married</th>\n",
       "      <td>101648.04</td>\n",
       "    </tr>\n",
       "    <tr>\n",
       "      <th>single</th>\n",
       "      <td>91674.45</td>\n",
       "    </tr>\n",
       "  </tbody>\n",
       "</table>\n",
       "</div>"
      ],
      "text/plain": [
       "                                    income\n",
       "                                      mean\n",
       "fam_status                                \n",
       "divorced/widowed                 116069.73\n",
       "living with parents and siblings  70934.93\n",
       "married                          101648.04\n",
       "single                            91674.45"
      ]
     },
     "execution_count": 22,
     "metadata": {},
     "output_type": "execute_result"
    }
   ],
   "source": [
    "# Question 5e - 'Income x family status'\n",
    "ords_prods_cust_merge_best.groupby('fam_status').agg({'income': ['mean']})"
   ]
  },
  {
   "cell_type": "code",
   "execution_count": 13,
   "id": "84ffd1b8",
   "metadata": {},
   "outputs": [],
   "source": [
    "#Creating a Dataframe with dawn orders \n",
    "ords_prods_cust_merge_best_AM = ords_prods_cust_merge_best.copy()\n",
    "ords_prods_cust_merge_best_AM.drop(ords_prods_cust_merge_best_AM[ords_prods_cust_merge_best_AM['order_hour_of_day'] > 6].index,inplace=True)\n"
   ]
  },
  {
   "cell_type": "code",
   "execution_count": 14,
   "id": "7575a282",
   "metadata": {},
   "outputs": [
    {
     "data": {
      "text/plain": [
       "4     250279\n",
       "16    135849\n",
       "7      68567\n",
       "19     65935\n",
       "1      59150\n",
       "13     48796\n",
       "3      29082\n",
       "15     26604\n",
       "20     25945\n",
       "9      21368\n",
       "17     20274\n",
       "12     17719\n",
       "14     17603\n",
       "11     12924\n",
       "18     10700\n",
       "6       6828\n",
       "8       2999\n",
       "5       2190\n",
       "21      1932\n",
       "2        987\n",
       "10       878\n",
       "Name: department_id, dtype: int64"
      ]
     },
     "execution_count": 14,
     "metadata": {},
     "output_type": "execute_result"
    }
   ],
   "source": [
    "ords_prods_cust_merge_best_AM ['department_id'].value_counts(dropna=False)"
   ]
  },
  {
   "cell_type": "code",
   "execution_count": 11,
   "id": "beb2e447",
   "metadata": {},
   "outputs": [
    {
     "data": {
      "text/plain": [
       "3    8135109\n",
       "0    8097503\n",
       "2    8091143\n",
       "1    8081104\n",
       "Name: n_dependants, dtype: int64"
      ]
     },
     "execution_count": 11,
     "metadata": {},
     "output_type": "execute_result"
    }
   ],
   "source": [
    "ords_prods_cust_merge ['n_dependants'].value_counts(dropna = False)"
   ]
  },
  {
   "cell_type": "code",
   "execution_count": null,
   "id": "3677e755",
   "metadata": {},
   "outputs": [],
   "source": []
  }
 ],
 "metadata": {
  "kernelspec": {
   "display_name": "Python 3 (ipykernel)",
   "language": "python",
   "name": "python3"
  },
  "language_info": {
   "codemirror_mode": {
    "name": "ipython",
    "version": 3
   },
   "file_extension": ".py",
   "mimetype": "text/x-python",
   "name": "python",
   "nbconvert_exporter": "python",
   "pygments_lexer": "ipython3",
   "version": "3.9.12"
  }
 },
 "nbformat": 4,
 "nbformat_minor": 5
}

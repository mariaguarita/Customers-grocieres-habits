{
 "cells": [
  {
   "cell_type": "markdown",
   "id": "dbe4b38b",
   "metadata": {},
   "source": [
    "# Opening Remarks"
   ]
  },
  {
   "cell_type": "markdown",
   "id": "d62fa9d4",
   "metadata": {},
   "source": [
    "Security implications action (PII data): the original given database contained columns with the first and last name of each customer. Given the lack of data, the lack of need to use these columns in the present analysis and aiming at the proof of these data, these columns were excluded."
   ]
  },
  {
   "cell_type": "markdown",
   "id": "8e2f6f86",
   "metadata": {},
   "source": [
    "# List of contents"
   ]
  },
  {
   "cell_type": "markdown",
   "id": "852b4a6f",
   "metadata": {},
   "source": [
    "1 - Importing Data\n",
    "\n",
    "2 - Checking and cleaning data\n",
    "\n",
    "3 - Comparing customer behavior in different geographic areas\n",
    "\n",
    "4 - Creating a Dataframe with the best buyers\n",
    "\n",
    "5 - Creating Single Adult profile\n",
    "\n",
    "6 - Analysing Single Adult profile\n",
    "\n",
    "7 - Creating Young Parent profile\n",
    "\n",
    "8 - Analysing Young Parent profile\n",
    "\n",
    "9 - Comparing Single Adult Profile and Young Parent profile"
   ]
  },
  {
   "cell_type": "markdown",
   "id": "51313253",
   "metadata": {},
   "source": [
    "# Importing Data"
   ]
  },
  {
   "cell_type": "code",
   "execution_count": 1,
   "id": "de6e0d41",
   "metadata": {},
   "outputs": [],
   "source": [
    "#Importing libraries\n",
    "import pandas as pd\n",
    "import numpy as np\n",
    "import os\n",
    "import matplotlib.pyplot as plt\n",
    "import seaborn as sns\n",
    "import scipy"
   ]
  },
  {
   "cell_type": "code",
   "execution_count": 2,
   "id": "27c620fd",
   "metadata": {},
   "outputs": [],
   "source": [
    "#Importing data from 'ordsers_products_customers'\n",
    "path = r'/Users/marialuciaguarita/Python Careerfoundry Project 1'\n",
    "ords_prods_cust_merge = pd.read_pickle(os.path.join(path,'Data','Prepared Data','orders_products_customers.pkl'))"
   ]
  },
  {
   "cell_type": "markdown",
   "id": "285adf3f",
   "metadata": {},
   "source": [
    "# Checking and cleaning data"
   ]
  },
  {
   "cell_type": "code",
   "execution_count": 3,
   "id": "d0986145",
   "metadata": {},
   "outputs": [
    {
     "data": {
      "text/html": [
       "<div>\n",
       "<style scoped>\n",
       "    .dataframe tbody tr th:only-of-type {\n",
       "        vertical-align: middle;\n",
       "    }\n",
       "\n",
       "    .dataframe tbody tr th {\n",
       "        vertical-align: top;\n",
       "    }\n",
       "\n",
       "    .dataframe thead th {\n",
       "        text-align: right;\n",
       "    }\n",
       "</style>\n",
       "<table border=\"1\" class=\"dataframe\">\n",
       "  <thead>\n",
       "    <tr style=\"text-align: right;\">\n",
       "      <th></th>\n",
       "      <th>user_id</th>\n",
       "      <th>gender</th>\n",
       "      <th>state</th>\n",
       "      <th>age</th>\n",
       "      <th>date_joined</th>\n",
       "      <th>n_dependants</th>\n",
       "      <th>fam_status</th>\n",
       "      <th>income</th>\n",
       "      <th>product_id</th>\n",
       "      <th>product_name</th>\n",
       "      <th>...</th>\n",
       "      <th>busiest_day</th>\n",
       "      <th>frequency_of_days_loc</th>\n",
       "      <th>busiest_period_of_day</th>\n",
       "      <th>max_order</th>\n",
       "      <th>loyalty_flag</th>\n",
       "      <th>max_spend</th>\n",
       "      <th>spending_flag</th>\n",
       "      <th>frequency_range</th>\n",
       "      <th>frequency_flag</th>\n",
       "      <th>merge_3</th>\n",
       "    </tr>\n",
       "  </thead>\n",
       "  <tbody>\n",
       "    <tr>\n",
       "      <th>0</th>\n",
       "      <td>26711</td>\n",
       "      <td>Female</td>\n",
       "      <td>Missouri</td>\n",
       "      <td>48</td>\n",
       "      <td>1/1/2017</td>\n",
       "      <td>3</td>\n",
       "      <td>married</td>\n",
       "      <td>165665</td>\n",
       "      <td>196</td>\n",
       "      <td>Soda</td>\n",
       "      <td>...</td>\n",
       "      <td>Busiest day</td>\n",
       "      <td>Busiest_day</td>\n",
       "      <td>Most orders</td>\n",
       "      <td>8</td>\n",
       "      <td>New customer</td>\n",
       "      <td>7.988889</td>\n",
       "      <td>Low spender</td>\n",
       "      <td>19.0</td>\n",
       "      <td>Regular customer</td>\n",
       "      <td>both</td>\n",
       "    </tr>\n",
       "    <tr>\n",
       "      <th>1</th>\n",
       "      <td>26711</td>\n",
       "      <td>Female</td>\n",
       "      <td>Missouri</td>\n",
       "      <td>48</td>\n",
       "      <td>1/1/2017</td>\n",
       "      <td>3</td>\n",
       "      <td>married</td>\n",
       "      <td>165665</td>\n",
       "      <td>196</td>\n",
       "      <td>Soda</td>\n",
       "      <td>...</td>\n",
       "      <td>Regularly busy</td>\n",
       "      <td>NaN</td>\n",
       "      <td>Most orders</td>\n",
       "      <td>8</td>\n",
       "      <td>New customer</td>\n",
       "      <td>7.988889</td>\n",
       "      <td>Low spender</td>\n",
       "      <td>19.0</td>\n",
       "      <td>Regular customer</td>\n",
       "      <td>both</td>\n",
       "    </tr>\n",
       "    <tr>\n",
       "      <th>2</th>\n",
       "      <td>26711</td>\n",
       "      <td>Female</td>\n",
       "      <td>Missouri</td>\n",
       "      <td>48</td>\n",
       "      <td>1/1/2017</td>\n",
       "      <td>3</td>\n",
       "      <td>married</td>\n",
       "      <td>165665</td>\n",
       "      <td>196</td>\n",
       "      <td>Soda</td>\n",
       "      <td>...</td>\n",
       "      <td>Busiest day</td>\n",
       "      <td>Busiest_day</td>\n",
       "      <td>Most orders</td>\n",
       "      <td>8</td>\n",
       "      <td>New customer</td>\n",
       "      <td>7.988889</td>\n",
       "      <td>Low spender</td>\n",
       "      <td>19.0</td>\n",
       "      <td>Regular customer</td>\n",
       "      <td>both</td>\n",
       "    </tr>\n",
       "    <tr>\n",
       "      <th>3</th>\n",
       "      <td>26711</td>\n",
       "      <td>Female</td>\n",
       "      <td>Missouri</td>\n",
       "      <td>48</td>\n",
       "      <td>1/1/2017</td>\n",
       "      <td>3</td>\n",
       "      <td>married</td>\n",
       "      <td>165665</td>\n",
       "      <td>6184</td>\n",
       "      <td>Clementines</td>\n",
       "      <td>...</td>\n",
       "      <td>Regularly busy</td>\n",
       "      <td>NaN</td>\n",
       "      <td>Most orders</td>\n",
       "      <td>8</td>\n",
       "      <td>New customer</td>\n",
       "      <td>7.988889</td>\n",
       "      <td>Low spender</td>\n",
       "      <td>19.0</td>\n",
       "      <td>Regular customer</td>\n",
       "      <td>both</td>\n",
       "    </tr>\n",
       "    <tr>\n",
       "      <th>4</th>\n",
       "      <td>26711</td>\n",
       "      <td>Female</td>\n",
       "      <td>Missouri</td>\n",
       "      <td>48</td>\n",
       "      <td>1/1/2017</td>\n",
       "      <td>3</td>\n",
       "      <td>married</td>\n",
       "      <td>165665</td>\n",
       "      <td>6184</td>\n",
       "      <td>Clementines</td>\n",
       "      <td>...</td>\n",
       "      <td>Least busy</td>\n",
       "      <td>Least_busy_day</td>\n",
       "      <td>Most orders</td>\n",
       "      <td>8</td>\n",
       "      <td>New customer</td>\n",
       "      <td>7.988889</td>\n",
       "      <td>Low spender</td>\n",
       "      <td>19.0</td>\n",
       "      <td>Regular customer</td>\n",
       "      <td>both</td>\n",
       "    </tr>\n",
       "  </tbody>\n",
       "</table>\n",
       "<p>5 rows × 32 columns</p>\n",
       "</div>"
      ],
      "text/plain": [
       "  user_id  gender     state  age date_joined  n_dependants fam_status  income  \\\n",
       "0   26711  Female  Missouri   48    1/1/2017             3    married  165665   \n",
       "1   26711  Female  Missouri   48    1/1/2017             3    married  165665   \n",
       "2   26711  Female  Missouri   48    1/1/2017             3    married  165665   \n",
       "3   26711  Female  Missouri   48    1/1/2017             3    married  165665   \n",
       "4   26711  Female  Missouri   48    1/1/2017             3    married  165665   \n",
       "\n",
       "   product_id product_name  ...     busiest_day  frequency_of_days_loc  \\\n",
       "0         196         Soda  ...     Busiest day            Busiest_day   \n",
       "1         196         Soda  ...  Regularly busy                    NaN   \n",
       "2         196         Soda  ...     Busiest day            Busiest_day   \n",
       "3        6184  Clementines  ...  Regularly busy                    NaN   \n",
       "4        6184  Clementines  ...      Least busy         Least_busy_day   \n",
       "\n",
       "   busiest_period_of_day  max_order  loyalty_flag  max_spend  spending_flag  \\\n",
       "0            Most orders          8  New customer   7.988889    Low spender   \n",
       "1            Most orders          8  New customer   7.988889    Low spender   \n",
       "2            Most orders          8  New customer   7.988889    Low spender   \n",
       "3            Most orders          8  New customer   7.988889    Low spender   \n",
       "4            Most orders          8  New customer   7.988889    Low spender   \n",
       "\n",
       "   frequency_range    frequency_flag  merge_3  \n",
       "0             19.0  Regular customer     both  \n",
       "1             19.0  Regular customer     both  \n",
       "2             19.0  Regular customer     both  \n",
       "3             19.0  Regular customer     both  \n",
       "4             19.0  Regular customer     both  \n",
       "\n",
       "[5 rows x 32 columns]"
      ]
     },
     "execution_count": 3,
     "metadata": {},
     "output_type": "execute_result"
    }
   ],
   "source": [
    "#Checking Data\n",
    "ords_prods_cust_merge.head()"
   ]
  },
  {
   "cell_type": "code",
   "execution_count": 4,
   "id": "d1b56f69",
   "metadata": {},
   "outputs": [
    {
     "data": {
      "text/plain": [
       "(32404859, 32)"
      ]
     },
     "execution_count": 4,
     "metadata": {},
     "output_type": "execute_result"
    }
   ],
   "source": [
    "ords_prods_cust_merge.shape"
   ]
  },
  {
   "cell_type": "markdown",
   "id": "2bb3a661",
   "metadata": {},
   "source": [
    "# Comparing customer behavior in different geographic areas"
   ]
  },
  {
   "cell_type": "code",
   "execution_count": null,
   "id": "e0418247",
   "metadata": {},
   "outputs": [],
   "source": [
    "# If-Statements with the loc() Function - \"State Region\" \n",
    "ords_prods_cust_merge.loc[ords_prods_cust_merge['state'].isin( ['Maine', 'New Hampshire', 'Vermont', 'Massachusetts', 'Rhode Island', 'Connecticut', 'New York', 'Pennsylvania', 'New Jersey']), 'state_region'] = 'Northest'"
   ]
  },
  {
   "cell_type": "code",
   "execution_count": null,
   "id": "0266d9ca",
   "metadata": {},
   "outputs": [],
   "source": [
    "# If-Statements with the loc() Function - \"State Region\" \n",
    "ords_prods_cust_merge.loc[ords_prods_cust_merge['state'].isin( ['Wisconsin', 'Michigan', 'Illinois', 'Indiana', 'Ohio', 'North Dakota', 'South Dakota', 'Nebraska', 'Kansas', 'Minnesota', 'Iowa', 'Missouri']), 'state_region'] = 'Midwest'"
   ]
  },
  {
   "cell_type": "code",
   "execution_count": null,
   "id": "450b2502",
   "metadata": {},
   "outputs": [],
   "source": [
    "# If-Statements with the loc() Function - \"State Region\" \n",
    "ords_prods_cust_merge.loc[ords_prods_cust_merge['state'].isin(['Delaware', 'Maryland', 'District of Columbia', 'Virginia', 'West Virginia', 'North Carolina', 'South Carolina', 'Georgia', 'Florida', 'Kentucky', 'Tennessee', 'Mississippi', 'Alabama','Oklahoma'\n",
    "'Texas', 'Arkansas', 'Louisiana']), 'state_region'] = 'South'"
   ]
  },
  {
   "cell_type": "code",
   "execution_count": null,
   "id": "a1efc149",
   "metadata": {},
   "outputs": [],
   "source": [
    "# If-Statements with the loc() Function - \"State Region\" \n",
    "ords_prods_cust_merge.loc[ords_prods_cust_merge['state'].isin(['Idaho', 'Montana', 'Wyoming', 'Nevada', 'Utah', 'Colorado', 'Arizona', 'New Mexico', 'Alaska', 'Washington', 'Oregon', 'California', 'Hawaii']), 'state_region'] = 'West'"
   ]
  },
  {
   "cell_type": "code",
   "execution_count": null,
   "id": "55ea7ece",
   "metadata": {},
   "outputs": [],
   "source": [
    "ords_prods_cust_merge['state_region'].value_counts(dropna=False)"
   ]
  },
  {
   "cell_type": "code",
   "execution_count": null,
   "id": "b7256b0f",
   "metadata": {},
   "outputs": [],
   "source": [
    "crosstab=pd.crosstab(ords_prods_cust_merge['state_region'],ords_prods_cust_merge['spending_flag'],dropna=False)"
   ]
  },
  {
   "cell_type": "code",
   "execution_count": null,
   "id": "c4b788d4",
   "metadata": {},
   "outputs": [],
   "source": [
    "crosstab"
   ]
  },
  {
   "cell_type": "markdown",
   "id": "86766e8e",
   "metadata": {},
   "source": [
    "# Creating a Dataframe with the best buyers"
   ]
  },
  {
   "cell_type": "code",
   "execution_count": 5,
   "id": "1c2a82d8",
   "metadata": {},
   "outputs": [],
   "source": [
    "ords_prods_cust_merge_best = ords_prods_cust_merge"
   ]
  },
  {
   "cell_type": "code",
   "execution_count": 6,
   "id": "2a3f4fcb",
   "metadata": {},
   "outputs": [],
   "source": [
    "#Excluding Flag for low-activity customers\n",
    "ords_prods_cust_merge_best.loc[ords_prods_cust_merge_best['max_order'] <=  5, 'exclusion_flag'] = 'Yes'\n"
   ]
  },
  {
   "cell_type": "code",
   "execution_count": 7,
   "id": "001ad1a4",
   "metadata": {},
   "outputs": [],
   "source": [
    "ords_prods_cust_merge_best.loc[ords_prods_cust_merge_best['max_order'] >  5, 'exclusion_flag'] = 'No'\n"
   ]
  },
  {
   "cell_type": "code",
   "execution_count": 8,
   "id": "498d3cfe",
   "metadata": {},
   "outputs": [
    {
     "data": {
      "text/plain": [
       "0     No\n",
       "1     No\n",
       "2     No\n",
       "3     No\n",
       "4     No\n",
       "5     No\n",
       "6     No\n",
       "7     No\n",
       "8     No\n",
       "9     No\n",
       "10    No\n",
       "11    No\n",
       "12    No\n",
       "13    No\n",
       "14    No\n",
       "15    No\n",
       "16    No\n",
       "17    No\n",
       "18    No\n",
       "19    No\n",
       "Name: exclusion_flag, dtype: object"
      ]
     },
     "execution_count": 8,
     "metadata": {},
     "output_type": "execute_result"
    }
   ],
   "source": [
    "#Checking Data\n",
    "ords_prods_cust_merge_best ['exclusion_flag'].head(20)"
   ]
  },
  {
   "cell_type": "code",
   "execution_count": 9,
   "id": "bc7253b4",
   "metadata": {},
   "outputs": [
    {
     "data": {
      "text/plain": [
       "(32404859, 33)"
      ]
     },
     "execution_count": 9,
     "metadata": {},
     "output_type": "execute_result"
    }
   ],
   "source": [
    "ords_prods_cust_merge_best.shape "
   ]
  },
  {
   "cell_type": "code",
   "execution_count": 10,
   "id": "06cc8845",
   "metadata": {},
   "outputs": [],
   "source": [
    "ords_prods_cust_merge_best.drop(ords_prods_cust_merge_best[ords_prods_cust_merge_best['exclusion_flag']=='Yes'].index,inplace=True)"
   ]
  },
  {
   "cell_type": "code",
   "execution_count": 11,
   "id": "45b6099b",
   "metadata": {},
   "outputs": [
    {
     "data": {
      "text/plain": [
       "(30171424, 33)"
      ]
     },
     "execution_count": 11,
     "metadata": {},
     "output_type": "execute_result"
    }
   ],
   "source": [
    "#Checking new dataframe\n",
    "ords_prods_cust_merge_best.shape "
   ]
  },
  {
   "cell_type": "code",
   "execution_count": 12,
   "id": "ac5623db",
   "metadata": {},
   "outputs": [
    {
     "data": {
      "text/plain": [
       "Index(['user_id', 'gender', 'state', 'age', 'date_joined', 'n_dependants',\n",
       "       'fam_status', 'income', 'product_id', 'product_name', 'aisle_id',\n",
       "       'department_id', 'prices', 'order_id', 'eval_set', 'order_number',\n",
       "       'orders_day_of_week', 'order_hour_of_day', 'days_since_prior_order',\n",
       "       'add_to_cart_order', 'reordered', 'price_range_loc', 'busiest_day',\n",
       "       'frequency_of_days_loc', 'busiest_period_of_day', 'max_order',\n",
       "       'loyalty_flag', 'max_spend', 'spending_flag', 'frequency_range',\n",
       "       'frequency_flag', 'merge_3', 'exclusion_flag'],\n",
       "      dtype='object')"
      ]
     },
     "execution_count": 12,
     "metadata": {},
     "output_type": "execute_result"
    }
   ],
   "source": [
    "ords_prods_cust_merge_best.columns"
   ]
  },
  {
   "cell_type": "markdown",
   "id": "3ee4cb36",
   "metadata": {},
   "source": [
    "# Formatting Data"
   ]
  },
  {
   "cell_type": "code",
   "execution_count": null,
   "id": "9717fe97",
   "metadata": {},
   "outputs": [],
   "source": [
    "#Dropping unecessary columns\n",
    "ords_prods_cust_merge_best = ords_prods_cust_merge_best.drop(columns = ['eval_set','merge_3'])"
   ]
  },
  {
   "cell_type": "code",
   "execution_count": null,
   "id": "98279b5a",
   "metadata": {},
   "outputs": [],
   "source": [
    "#Dropping unecessary columns\n",
    "ords_prods_cust_merge_best = ords_prods_cust_merge_best.drop(columns = ['reordered'])"
   ]
  },
  {
   "cell_type": "code",
   "execution_count": null,
   "id": "4af9cb61",
   "metadata": {},
   "outputs": [],
   "source": [
    "#Dropping unecessary columns\n",
    "ords_prods_cust_merge_best = ords_prods_cust_merge_best.drop(columns = ['add_to_cart_order'])"
   ]
  },
  {
   "cell_type": "code",
   "execution_count": null,
   "id": "d8a389c2",
   "metadata": {},
   "outputs": [],
   "source": [
    "#Dropping unecessary columns\n",
    "ords_prods_cust_merge_best = ords_prods_cust_merge_best.drop(columns = ['frequency_of_days_loc'])"
   ]
  },
  {
   "cell_type": "code",
   "execution_count": null,
   "id": "56c59920",
   "metadata": {},
   "outputs": [],
   "source": [
    "#Changing columns name \n",
    "ords_prods_cust_merge_best.rename(columns = {'price_range_loc' : 'price_range'}, inplace = True)"
   ]
  },
  {
   "cell_type": "code",
   "execution_count": null,
   "id": "6cc8fdd3",
   "metadata": {},
   "outputs": [],
   "source": [
    "#Changing columns name \n",
    "ords_prods_cust_merge_best.rename(columns = {'max_spend' : 'avg_spend'}, inplace = True)"
   ]
  },
  {
   "cell_type": "code",
   "execution_count": null,
   "id": "59f16b7c",
   "metadata": {},
   "outputs": [],
   "source": [
    "#Checking Data\n",
    "ords_prods_cust_merge_best.columns"
   ]
  },
  {
   "cell_type": "markdown",
   "id": "817a3d4b",
   "metadata": {},
   "source": [
    "# Comparing Profiles - Income"
   ]
  },
  {
   "cell_type": "code",
   "execution_count": 13,
   "id": "bc912890",
   "metadata": {},
   "outputs": [],
   "source": [
    "#Creating a Dataframe with best buyers and spending power > $150,000\n",
    "ords_prods_cust_merge_best_Rich = ords_prods_cust_merge_best.copy()\n",
    "ords_prods_cust_merge_best_Rich.drop(ords_prods_cust_merge_best_Rich[ords_prods_cust_merge_best_Rich['income'] < 300000].index,inplace=True)\n"
   ]
  },
  {
   "cell_type": "code",
   "execution_count": 14,
   "id": "ae8673cf",
   "metadata": {},
   "outputs": [
    {
     "data": {
      "text/plain": [
       "count    98063.000000\n",
       "mean         7.752017\n",
       "std          4.273348\n",
       "min          1.000000\n",
       "25%          4.200000\n",
       "50%          7.300000\n",
       "75%         11.200000\n",
       "max         25.000000\n",
       "Name: prices, dtype: float64"
      ]
     },
     "execution_count": 14,
     "metadata": {},
     "output_type": "execute_result"
    }
   ],
   "source": [
    "ords_prods_cust_merge_best_Rich ['prices'].describe() "
   ]
  },
  {
   "cell_type": "code",
   "execution_count": 15,
   "id": "7285d063",
   "metadata": {},
   "outputs": [],
   "source": [
    "#Creating a Dataframe with best buyers and spending power < $150,000\n",
    "ords_prods_cust_merge_best_notrich = ords_prods_cust_merge_best.copy()\n",
    "ords_prods_cust_merge_best_notrich.drop(ords_prods_cust_merge_best_notrich[ords_prods_cust_merge_best_notrich['income'] > 300000].index,inplace=True)\n"
   ]
  },
  {
   "cell_type": "code",
   "execution_count": 16,
   "id": "bd11e325",
   "metadata": {},
   "outputs": [
    {
     "data": {
      "text/plain": [
       "count    3.006864e+07\n",
       "mean     7.790118e+00\n",
       "std      4.239491e+00\n",
       "min      1.000000e+00\n",
       "25%      4.200000e+00\n",
       "50%      7.400000e+00\n",
       "75%      1.130000e+01\n",
       "max      2.500000e+01\n",
       "Name: prices, dtype: float64"
      ]
     },
     "execution_count": 16,
     "metadata": {},
     "output_type": "execute_result"
    }
   ],
   "source": [
    "ords_prods_cust_merge_best_notrich ['prices'].describe() "
   ]
  },
  {
   "cell_type": "markdown",
   "id": "9edbe2b2",
   "metadata": {},
   "source": [
    "# Single Adult profile"
   ]
  },
  {
   "cell_type": "code",
   "execution_count": null,
   "id": "cc801815",
   "metadata": {},
   "outputs": [],
   "source": [
    "ords_prods_cust_merge_best_SA = ords_prods_cust_merge_best.copy()"
   ]
  },
  {
   "cell_type": "code",
   "execution_count": null,
   "id": "a388138c",
   "metadata": {},
   "outputs": [],
   "source": [
    "#Creating a Dataframe with single adults best buyers\n",
    "ords_prods_cust_merge_best_SA.drop(ords_prods_cust_merge_best_SA[ords_prods_cust_merge_best_SA['fam_status'] == 'married'].index,inplace=True)\n"
   ]
  },
  {
   "cell_type": "code",
   "execution_count": null,
   "id": "36078f51",
   "metadata": {},
   "outputs": [],
   "source": [
    "#Checking data\n",
    "ords_prods_cust_merge_best_SA.shape "
   ]
  },
  {
   "cell_type": "code",
   "execution_count": null,
   "id": "d8de6412",
   "metadata": {},
   "outputs": [],
   "source": [
    "#Creating a Dataframe with single adults best buyers with no dependents\n",
    "ords_prods_cust_merge_best_SA.drop(ords_prods_cust_merge_best_SA[ords_prods_cust_merge_best_SA['n_dependants'] > 1].index,inplace=True)"
   ]
  },
  {
   "cell_type": "code",
   "execution_count": null,
   "id": "20c5d383",
   "metadata": {},
   "outputs": [],
   "source": [
    "#Checking data\n",
    "ords_prods_cust_merge_best_SA.shape "
   ]
  },
  {
   "cell_type": "code",
   "execution_count": null,
   "id": "f167996e",
   "metadata": {},
   "outputs": [],
   "source": [
    "ords_prods_cust_merge_best_SA.head(100)"
   ]
  },
  {
   "cell_type": "code",
   "execution_count": null,
   "id": "1a1e5cce",
   "metadata": {},
   "outputs": [],
   "source": [
    "sns.scatterplot(x = 'age', y = 'income',data = ords_prods_cust_merge_best_SA)"
   ]
  },
  {
   "cell_type": "code",
   "execution_count": null,
   "id": "eff1a008",
   "metadata": {},
   "outputs": [],
   "source": [
    "#Creating a Dataframe with single adults best buyers and spending power > $150,000\n",
    "ords_prods_cust_merge_best_SA.drop(ords_prods_cust_merge_best_SA[ords_prods_cust_merge_best_SA['income'] < 150000].index,inplace=True)"
   ]
  },
  {
   "cell_type": "code",
   "execution_count": null,
   "id": "1c70ab2b",
   "metadata": {},
   "outputs": [],
   "source": [
    "#Checking data\n",
    "ords_prods_cust_merge_best_SA.shape "
   ]
  },
  {
   "cell_type": "code",
   "execution_count": null,
   "id": "c8dd0190",
   "metadata": {},
   "outputs": [],
   "source": [
    "# Formatting data\n",
    "pd.set_option(\"display.float_format\",lambda x:\"%.2f\"% x)"
   ]
  },
  {
   "cell_type": "markdown",
   "id": "bce1c257",
   "metadata": {},
   "source": [
    "# Analysing Single Adult profile"
   ]
  },
  {
   "cell_type": "code",
   "execution_count": null,
   "id": "570f189c",
   "metadata": {},
   "outputs": [],
   "source": [
    "ords_prods_cust_merge_best_SA['state_region'].value_counts(dropna=False)"
   ]
  },
  {
   "cell_type": "code",
   "execution_count": null,
   "id": "32fa764b",
   "metadata": {},
   "outputs": [],
   "source": [
    "ords_prods_cust_merge_best_SA['loyalty_flag'].value_counts().sort_index().plot.bar(color=['blue','yellow','green'])"
   ]
  },
  {
   "cell_type": "code",
   "execution_count": null,
   "id": "40a412c0",
   "metadata": {},
   "outputs": [],
   "source": [
    "ords_prods_cust_merge_best_SA['spending_flag'].value_counts().sort_index().plot.bar(color=['pink','purple'])"
   ]
  },
  {
   "cell_type": "code",
   "execution_count": null,
   "id": "e76ba640",
   "metadata": {},
   "outputs": [],
   "source": [
    "ords_prods_cust_merge_best_SA ['avg_spend'].describe() "
   ]
  },
  {
   "cell_type": "code",
   "execution_count": null,
   "id": "93232dbc",
   "metadata": {},
   "outputs": [],
   "source": [
    "ords_prods_cust_merge_best_SA['frequency_flag'].value_counts().sort_index().plot.bar(color=['red','black','orange'])"
   ]
  },
  {
   "cell_type": "code",
   "execution_count": null,
   "id": "9224ae74",
   "metadata": {},
   "outputs": [],
   "source": [
    "ords_prods_cust_merge_best_SA ['department_id'].value_counts(dropna=False)"
   ]
  },
  {
   "cell_type": "code",
   "execution_count": null,
   "id": "377a1cf5",
   "metadata": {},
   "outputs": [],
   "source": [
    "ords_prods_cust_merge_best_SA ['order_hour_of_day'].plot.hist (bins = 70)"
   ]
  },
  {
   "cell_type": "markdown",
   "id": "838e666d",
   "metadata": {},
   "source": [
    "# Young Parent Profile"
   ]
  },
  {
   "cell_type": "code",
   "execution_count": null,
   "id": "a84f10e6",
   "metadata": {},
   "outputs": [],
   "source": [
    "ords_prods_cust_merge_best_YP = ords_prods_cust_merge_best.copy()"
   ]
  },
  {
   "cell_type": "code",
   "execution_count": null,
   "id": "68f5cf13",
   "metadata": {},
   "outputs": [],
   "source": [
    "#Checking data\n",
    "ords_prods_cust_merge_best_YP.shape"
   ]
  },
  {
   "cell_type": "code",
   "execution_count": null,
   "id": "f3ac4189",
   "metadata": {},
   "outputs": [],
   "source": [
    "#Creating a Dataframe with young best buyers\n",
    "ords_prods_cust_merge_best_YP.drop(ords_prods_cust_merge_best_YP[ords_prods_cust_merge_best_YP['age'] > 45].index,inplace=True)\n",
    "\n"
   ]
  },
  {
   "cell_type": "code",
   "execution_count": null,
   "id": "fb5ac657",
   "metadata": {},
   "outputs": [],
   "source": [
    "#Checking data\n",
    "ords_prods_cust_merge_best_YP.shape"
   ]
  },
  {
   "cell_type": "code",
   "execution_count": null,
   "id": "0089df8c",
   "metadata": {},
   "outputs": [],
   "source": [
    "#Creating a Dataframe with young parets best buyers \n",
    "ords_prods_cust_merge_best_YP.drop(ords_prods_cust_merge_best_YP[ords_prods_cust_merge_best_YP['n_dependants'] < 1].index,inplace=True)\n",
    "\n"
   ]
  },
  {
   "cell_type": "code",
   "execution_count": null,
   "id": "ec028eb6",
   "metadata": {},
   "outputs": [],
   "source": [
    "#Checking data\n",
    "ords_prods_cust_merge_best_YP.shape"
   ]
  },
  {
   "cell_type": "code",
   "execution_count": null,
   "id": "92691e56",
   "metadata": {},
   "outputs": [],
   "source": [
    "sns.scatterplot(x = 'age', y = 'income',data = ords_prods_cust_merge_best_YP)"
   ]
  },
  {
   "cell_type": "code",
   "execution_count": null,
   "id": "8c7439a5",
   "metadata": {},
   "outputs": [],
   "source": [
    "#Creating a Dataframe with young parets best buyers and spending power > $150,000\n",
    "ords_prods_cust_merge_best_YP.drop(ords_prods_cust_merge_best_YP[ords_prods_cust_merge_best_YP['income'] < 150000].index,inplace=True)"
   ]
  },
  {
   "cell_type": "code",
   "execution_count": null,
   "id": "e178f9d6",
   "metadata": {},
   "outputs": [],
   "source": [
    "#Checking data\n",
    "ords_prods_cust_merge_best_YP.shape"
   ]
  },
  {
   "cell_type": "code",
   "execution_count": null,
   "id": "ca0f2091",
   "metadata": {},
   "outputs": [],
   "source": [
    "# Formatting data\n",
    "pd.set_option(\"display.float_format\",lambda x:\"%.2f\"% x)"
   ]
  },
  {
   "cell_type": "markdown",
   "id": "a8326611",
   "metadata": {},
   "source": [
    "# Analysing Young Parent Profile"
   ]
  },
  {
   "cell_type": "code",
   "execution_count": null,
   "id": "ef1c3312",
   "metadata": {},
   "outputs": [],
   "source": [
    "ords_prods_cust_merge_best_YP['state_region'].value_counts(dropna=False)"
   ]
  },
  {
   "cell_type": "code",
   "execution_count": null,
   "id": "492998d0",
   "metadata": {},
   "outputs": [],
   "source": [
    "ords_prods_cust_merge_best_YP['loyalty_flag'].value_counts().sort_index().plot.bar(color=['blue','yellow','green'])"
   ]
  },
  {
   "cell_type": "code",
   "execution_count": null,
   "id": "2ad3b8f7",
   "metadata": {},
   "outputs": [],
   "source": [
    "ords_prods_cust_merge_best_YP['spending_flag'].value_counts().sort_index().plot.bar(color=['pink','purple'])"
   ]
  },
  {
   "cell_type": "code",
   "execution_count": null,
   "id": "6493e6c9",
   "metadata": {},
   "outputs": [],
   "source": [
    "ords_prods_cust_merge_best_YP ['avg_spend'].describe() "
   ]
  },
  {
   "cell_type": "code",
   "execution_count": null,
   "id": "78ac15c7",
   "metadata": {},
   "outputs": [],
   "source": [
    "ords_prods_cust_merge_best_YP['frequency_flag'].value_counts().sort_index().plot.bar(color=['red','black','orange'])"
   ]
  },
  {
   "cell_type": "code",
   "execution_count": null,
   "id": "d821067e",
   "metadata": {},
   "outputs": [],
   "source": [
    "ords_prods_cust_merge_best_YP ['department_id'].value_counts(dropna=False)"
   ]
  },
  {
   "cell_type": "code",
   "execution_count": null,
   "id": "217a5362",
   "metadata": {},
   "outputs": [],
   "source": [
    "# Importing data set departments.csv\n",
    "df_dep = pd.read_csv(os.path.join(path,'Data', 'Original Data', 'departments.csv'), index_col = False)"
   ]
  },
  {
   "cell_type": "code",
   "execution_count": null,
   "id": "68e10d14",
   "metadata": {},
   "outputs": [],
   "source": [
    "df_dep.head()"
   ]
  },
  {
   "cell_type": "code",
   "execution_count": null,
   "id": "464754b9",
   "metadata": {},
   "outputs": [],
   "source": [
    "#Transposing Data\n",
    "df_dep.T"
   ]
  },
  {
   "cell_type": "code",
   "execution_count": null,
   "id": "4b68ad29",
   "metadata": {},
   "outputs": [],
   "source": [
    "ords_prods_cust_merge_best_YP ['order_hour_of_day'].plot.hist (bins = 70)"
   ]
  },
  {
   "cell_type": "markdown",
   "id": "b6d41813",
   "metadata": {},
   "source": [
    "# Comparing Single Adult Profile and Young Parent"
   ]
  },
  {
   "cell_type": "markdown",
   "id": "6e0810a8",
   "metadata": {},
   "source": [
    "Comparing the two profiles of customers with more than 5 orders on the platform and purchasing power over US$150,000, we can observe:\n",
    "\n",
    "\n",
    "   Sample Size: 424,297 (young parents) x 980,163 (single adults); \n",
    "   \n",
    "   Majority from South and West regions from both samples;\n",
    "   \n",
    "   Income distribution: Above 40 years old both groups have customers with an spending power over $400,000;\n",
    "   \n",
    "   Loyalty Flag: The majority of young parents are regular customers (~210,000) x regular from single adults (~500,000); \n",
    "   \n",
    "   Spending Flag: The majority of young parents are low spenders (~300,000) as single adults (~800,000); \n",
    "   \n",
    "   Avg_spend mean: 74 young parents x 33 single adults; \n",
    "   \n",
    "   Frequency Flag: ~60% from young parents are frequent customers x ~75% are non-frequent customers from single adults;\n",
    "   \n",
    "   Departments: It is interesting to note that the most used departments of both profiles are the same with only a slight inversion of the order, namely:\n",
    "   \n",
    "    - Produce department\n",
    "    \n",
    "    - Dairy Eggs\n",
    "    \n",
    "    - Beverage\n",
    "    \n",
    "    - Frozen products\n",
    "    \n",
    "    - Snacks\n",
    "  \n",
    "   Hour of the day: Considering the frequency of orders along the day, there was no difference between the two groups.  The biggest shopping days and times are Saturday and Sunday from 9 AM to 6 PM."
   ]
  }
 ],
 "metadata": {
  "kernelspec": {
   "display_name": "Python 3 (ipykernel)",
   "language": "python",
   "name": "python3"
  },
  "language_info": {
   "codemirror_mode": {
    "name": "ipython",
    "version": 3
   },
   "file_extension": ".py",
   "mimetype": "text/x-python",
   "name": "python",
   "nbconvert_exporter": "python",
   "pygments_lexer": "ipython3",
   "version": "3.9.12"
  }
 },
 "nbformat": 4,
 "nbformat_minor": 5
}
